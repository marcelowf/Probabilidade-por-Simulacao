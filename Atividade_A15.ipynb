{
  "nbformat": 4,
  "nbformat_minor": 0,
  "metadata": {
    "colab": {
      "provenance": []
    },
    "kernelspec": {
      "name": "python3",
      "display_name": "Python 3"
    },
    "language_info": {
      "name": "python"
    }
  },
  "cells": [
    {
      "cell_type": "code",
      "source": [
        "import random\n",
        "import matplotlib.pyplot as plt"
      ],
      "metadata": {
        "id": "4UeBG9Stk6Fx"
      },
      "execution_count": null,
      "outputs": []
    },
    {
      "cell_type": "code",
      "execution_count": null,
      "metadata": {
        "id": "C-I1no94RdDA"
      },
      "outputs": [],
      "source": [
        "# Função para gerar uma palavra\n",
        "def gerar_palavra():\n",
        "    primeira_letra = random.choice('qwzx')\n",
        "    segunda_letra = random.choice('aiu')\n",
        "    terceira_letra = random.choice('cfs')\n",
        "    quarta_letra = random.choice('eo')\n",
        "    return primeira_letra + segunda_letra + terceira_letra + quarta_letra\n",
        "\n",
        "# Função para contar ocorrências de uma palavra\n",
        "def contar_ocorrencias(palavra, num_sorteios):\n",
        "    contagem = 0\n",
        "    for _ in range(num_sorteios):\n",
        "        if gerar_palavra() == palavra:\n",
        "            contagem += 1\n",
        "    return contagem\n",
        "\n",
        "# Função para calcular o número esperado de ocorrências\n",
        "def calcular_esperado(palavra, num_sorteios_total):\n",
        "    total_palavras = len(palavras)\n",
        "    return (1 / total_palavras) * num_sorteios_total\n",
        "\n",
        "# Lista de palavras e sorteios possíveis\n",
        "palavras = ['qace', 'qice', 'qoce', 'quce', 'wace', 'wice', 'woce', 'wuce', 'xace', 'xice', 'xoce', 'xuce', 'zace', 'zice', 'zoce', 'zuce']\n",
        "num_sorteios = [72, 216, 720, 2160, 7200, 72000]\n",
        "\n",
        "# Armazenar os dados da tabela\n",
        "tabela_dados = [[\"Palavra\"] + [f\"{sorteios} sorteios\" for sorteios in num_sorteios] + [\"Esperado (%)\"]]\n",
        "\n",
        "# Preenchendo a tabela\n",
        "for palavra in palavras:\n",
        "    linha = [palavra]\n",
        "    for sorteios in num_sorteios:\n",
        "        ocorrencias = contar_ocorrencias(palavra, sorteios)\n",
        "        linha.append(ocorrencias)\n",
        "    percentual_esperado = calcular_esperado(palavra, num_sorteios[-1]) / num_sorteios[-1] * 100\n",
        "    linha.append(f\"{percentual_esperado:.2f}%\")\n",
        "    tabela_dados.append(linha)\n",
        "\n",
        "# Plot\n",
        "plt.figure(figsize=(10,6))\n",
        "plt.table(cellText=tabela_dados, loc='center', cellLoc='center', colWidths=[0.15]*len(tabela_dados[0]))\n",
        "plt.axis('off')\n",
        "plt.show()\n"
      ]
    }
  ]
}